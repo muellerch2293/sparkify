{
 "cells": [
  {
   "cell_type": "markdown",
   "metadata": {},
   "source": [
    "# Sparkify Project Workspace\n",
    "This workspace contains a tiny subset (128MB) of the full dataset available (12GB). Feel free to use this workspace to build your project, or to explore a smaller subset with Spark before deploying your cluster on the cloud. Instructions for setting up your Spark cluster is included in the last lesson of the Extracurricular Spark Course content.\n",
    "\n",
    "You can follow the steps below to guide your data analysis and model building portion of this project."
   ]
  },
  {
   "cell_type": "code",
   "execution_count": 1,
   "metadata": {},
   "outputs": [],
   "source": [
    "# import libraries\n",
    "from pyspark.sql import SparkSession, Window\n",
    "from pyspark.sql.functions import udf\n",
    "from pyspark.sql.types import StringType,NumericType,LongType,IntegerType\n",
    "from pyspark.sql.functions import desc,asc,sum,mean,avg,max\n",
    "import pyspark.sql.functions as F\n",
    "from pyspark.sql.functions import col, row_number\n",
    "import numpy as np\n",
    "from sklearn.metrics import f1_score,accuracy_score\n",
    "from pyspark.sql.functions import col, row_number, when\n",
    "import seaborn as sns\n",
    "from pyspark.ml.feature import StandardScaler, VectorAssembler\n",
    "import matplotlib.pyplot as plt\n",
    "from pyspark.ml import Pipeline\n",
    "from pyspark.ml.classification import LogisticRegression, RandomForestClassifier, GBTClassifier, LinearSVC\n",
    "from pyspark.ml.evaluation import BinaryClassificationEvaluator\n",
    "from pyspark.ml.feature import CountVectorizer, IDF, Normalizer, StandardScaler, StringIndexer, VectorAssembler\n",
    "from pyspark.ml.tuning import CrossValidator, ParamGridBuilder\n",
    "import time\n",
    "from pyspark.ml.stat import Correlation\n",
    "import pandas as pd"
   ]
  },
  {
   "cell_type": "code",
   "execution_count": 2,
   "metadata": {},
   "outputs": [
    {
     "data": {
      "text/plain": [
       "[('spark.rdd.compress', 'True'),\n",
       " ('spark.app.name', 'Sparkify'),\n",
       " ('spark.driver.host', 'cddb82df6f15'),\n",
       " ('spark.serializer.objectStreamReset', '100'),\n",
       " ('spark.master', 'local[*]'),\n",
       " ('spark.executor.id', 'driver'),\n",
       " ('spark.submit.deployMode', 'client'),\n",
       " ('spark.driver.port', '36755'),\n",
       " ('spark.app.id', 'local-1672508961159'),\n",
       " ('spark.ui.showConsoleProgress', 'true')]"
      ]
     },
     "execution_count": 2,
     "metadata": {},
     "output_type": "execute_result"
    }
   ],
   "source": [
    "# create a Spark session\n",
    "spark = SparkSession.builder.appName('Sparkify').getOrCreate()\n",
    "spark.sparkContext.getConf().getAll()"
   ]
  },
  {
   "cell_type": "markdown",
   "metadata": {},
   "source": [
    "# Load and Clean Dataset\n",
    "In this workspace, the mini-dataset file is `mini_sparkify_event_data.json`. Load and clean the dataset, checking for invalid or missing data - for example, records without userids or sessionids. "
   ]
  },
  {
   "cell_type": "code",
   "execution_count": 3,
   "metadata": {},
   "outputs": [],
   "source": [
    "event_data = spark.read.json('mini_sparkify_event_data.json')"
   ]
  },
  {
   "cell_type": "code",
   "execution_count": 4,
   "metadata": {},
   "outputs": [
    {
     "name": "stdout",
     "output_type": "stream",
     "text": [
      "root\n",
      " |-- artist: string (nullable = true)\n",
      " |-- auth: string (nullable = true)\n",
      " |-- firstName: string (nullable = true)\n",
      " |-- gender: string (nullable = true)\n",
      " |-- itemInSession: long (nullable = true)\n",
      " |-- lastName: string (nullable = true)\n",
      " |-- length: double (nullable = true)\n",
      " |-- level: string (nullable = true)\n",
      " |-- location: string (nullable = true)\n",
      " |-- method: string (nullable = true)\n",
      " |-- page: string (nullable = true)\n",
      " |-- registration: long (nullable = true)\n",
      " |-- sessionId: long (nullable = true)\n",
      " |-- song: string (nullable = true)\n",
      " |-- status: long (nullable = true)\n",
      " |-- ts: long (nullable = true)\n",
      " |-- userAgent: string (nullable = true)\n",
      " |-- userId: string (nullable = true)\n",
      "\n",
      "the data subset has 286500 rows and 18 columns \n"
     ]
    }
   ],
   "source": [
    "event_data.printSchema()\n",
    "event_data.count()\n",
    "print(\"the data subset has {} rows and {} columns \".format(event_data.count(), len(event_data.columns)))"
   ]
  },
  {
   "cell_type": "code",
   "execution_count": 5,
   "metadata": {},
   "outputs": [
    {
     "name": "stdout",
     "output_type": "stream",
     "text": [
      "{'artist': 58392, 'auth': 0, 'firstName': 8346, 'gender': 8346, 'itemInSession': 0, 'lastName': 8346, 'length': 58392, 'level': 0, 'location': 8346, 'method': 0, 'page': 0, 'registration': 8346, 'sessionId': 0, 'song': 58392, 'status': 0, 'ts': 0, 'userAgent': 8346, 'userId': 0}\n",
      "{'artist': 0, 'auth': 0, 'firstName': 0, 'gender': 0, 'itemInSession': 0, 'lastName': 0, 'length': 0, 'level': 0, 'location': 0, 'method': 0, 'page': 0, 'registration': 0, 'sessionId': 0, 'song': 0, 'status': 0, 'ts': 0, 'userAgent': 0, 'userId': 8346}\n",
      "The data subset has 286500 rows and 18 columns \n"
     ]
    }
   ],
   "source": [
    "#Null/Empty Check on every column in the dataframe (COMMENT IN LATER)\n",
    "print({col:event_data.filter(event_data[col].isNull()).count() for col in event_data.columns})\n",
    "print({col:event_data.filter(event_data[col] == '').count() for col in event_data.columns})\n",
    "# in 8346 the userId is empty, and the following fields are null firstName, gender, lastName, userAgent\n",
    "# verify assumption that this is a specific type of event\n",
    "#event_data.select(\"*\").where(event_data.userId == '').take(1000)\n",
    "#event_data.filter((event_data.auth !='Logged Out') & (event_data.userId == '')).show()\n",
    "#if the user is 'Logged Out' or a 'Guest' the records have no relevant information for us => drop them\n",
    "event_data_cleaned = event_data.filter((event_data.auth != 'Logged Out') & (event_data.auth != 'Guest'))\n",
    "print(\"The data subset has {} rows and {} columns \".format(event_data.count(), len(event_data.columns)))"
   ]
  },
  {
   "cell_type": "markdown",
   "metadata": {},
   "source": [
    "# Exploratory Data Analysis\n",
    "When you're working with the full dataset, perform EDA by loading a small subset of the data and doing basic manipulations within Spark. In this workspace, you are already provided a small subset of data you can explore.\n",
    "\n",
    "\n"
   ]
  },
  {
   "cell_type": "code",
   "execution_count": 6,
   "metadata": {},
   "outputs": [
    {
     "name": "stdout",
     "output_type": "stream",
     "text": [
      "+-------------------------+\n",
      "|page                     |\n",
      "+-------------------------+\n",
      "|About                    |\n",
      "|Add Friend               |\n",
      "|Add to Playlist          |\n",
      "|Cancel                   |\n",
      "|Cancellation Confirmation|\n",
      "|Downgrade                |\n",
      "|Error                    |\n",
      "|Help                     |\n",
      "|Home                     |\n",
      "|Login                    |\n",
      "|Logout                   |\n",
      "|NextSong                 |\n",
      "|Register                 |\n",
      "|Roll Advert              |\n",
      "|Save Settings            |\n",
      "|Settings                 |\n",
      "|Submit Downgrade         |\n",
      "|Submit Registration      |\n",
      "|Submit Upgrade           |\n",
      "|Thumbs Down              |\n",
      "|Thumbs Up                |\n",
      "|Upgrade                  |\n",
      "+-------------------------+\n",
      "\n"
     ]
    }
   ],
   "source": [
    "#explore all possible event types\n",
    "event_data.select(\"page\").dropDuplicates().sort(\"page\").show(100,truncate= False)"
   ]
  },
  {
   "cell_type": "markdown",
   "metadata": {},
   "source": [
    "### Define Churn\n",
    "\n",
    "Once you've done some preliminary analysis, create a column `Churn` to use as the label for your model. I suggest using the `Cancellation Confirmation` events to define your churn, which happen for both paid and free users. As a bonus task, you can also look into the `Downgrade` events."
   ]
  },
  {
   "cell_type": "code",
   "execution_count": 7,
   "metadata": {},
   "outputs": [],
   "source": [
    "#define churn\n",
    "is_churn = udf(lambda x: int(x==\"Cancellation Confirmation\"))\n",
    "event_data_cleaned = event_data_cleaned.withColumn(\"churn\", is_churn(\"page\").cast(\"integer\"))\n",
    "#partitionBy userId and add st every event by a user is labeled with the churn flag of the user (user left or has not left)\n",
    "event_data_cleaned = event_data_cleaned.withColumn(\"user_churn\", max('churn').over(Window.partitionBy('UserId')))"
   ]
  },
  {
   "cell_type": "markdown",
   "metadata": {},
   "source": [
    "### Explore Data\n",
    "Once you've defined churn, perform some exploratory data analysis to observe the behavior for users who stayed vs users who churned. You can start by exploring aggregates on these two groups of users, observing how much of a specific action they experienced per a certain time unit or number of songs played."
   ]
  },
  {
   "cell_type": "code",
   "execution_count": 8,
   "metadata": {},
   "outputs": [
    {
     "name": "stdout",
     "output_type": "stream",
     "text": [
      "There are logs from 225 different users in the dataset\n"
     ]
    }
   ],
   "source": [
    "#check number of unique users\n",
    "print('There are logs from {} different users in the dataset'.format((event_data_cleaned.groupBy(event_data.userId).count()).count()))\n",
    "#use 'registration' and 'ts' timestamp to calculate a for how long a user is already a member of Sparkify = membership_duration\n",
    "get_membership_duration = udf(lambda registration,current: float((current-registration)/(1000*60*60*24)))\n",
    "event_data_cleaned = event_data_cleaned.withColumn('membership_duration',\n",
    "                                                   get_membership_duration(event_data_cleaned.registration,event_data_cleaned.ts).cast(\"long\"))\n",
    "\n"
   ]
  },
  {
   "cell_type": "code",
   "execution_count": 9,
   "metadata": {},
   "outputs": [
    {
     "name": "stdout",
     "output_type": "stream",
     "text": [
      "+------------------------+\n",
      "|avg(membership_duration)|\n",
      "+------------------------+\n",
      "|       64.32194755423255|\n",
      "+------------------------+\n",
      "\n"
     ]
    },
    {
     "data": {
      "image/png": "[encoded data removed]",
      "text/plain": [
       "<matplotlib.figure.Figure at 0x7f6f89698240>"
      ]
     },
     "metadata": {
      "needs_background": "light"
     },
     "output_type": "display_data"
    }
   ],
   "source": [
    "#check when (in the users lifecycle a Downgrade or App Cancelation occurs)\n",
    "df = event_data_cleaned.select(['membership_duration','userId']).groupBy('userId') \\\n",
    ".max('membership_duration').withColumnRenamed('max(membership_duration)','membership_duration').toPandas()\n",
    "sns.distplot(df.membership_duration)\n",
    "\n",
    "df_downgrade = event_data_cleaned.select(['membership_duration','userId']).where(event_data.page == 'Submit Downgrade') \\\n",
    ".groupBy('userId').max('membership_duration').withColumnRenamed('max(membership_duration)','membership_duration').toPandas()\n",
    "sns.distplot(df_downgrade.membership_duration)\n",
    "plt.legend(labels=['Membership Duration', 'Submit Downgrade'])\n",
    "\n",
    "df_cancel = event_data_cleaned.select(['membership_duration','userId']).where(event_data.page == 'Cancellation Confirmation') \\\n",
    ".groupBy('userId').max('membership_duration').withColumnRenamed('max(membership_duration)','membership_duration').toPandas()\n",
    "sns.distplot(df_cancel.membership_duration)\n",
    "plt.legend(labels=['Membership Duration', 'Submit Downgrade','Cancellation Confirmation'])\n",
    "\n",
    "event_data_cleaned.select(avg(\"membership_duration\")).show()"
   ]
  },
  {
   "cell_type": "markdown",
   "metadata": {},
   "source": [
    "There are activities from 225 users in the provided dataset. The average user is on the platform since 64.3 days. Cancellation of membership (leaving sparkify) or  Downgrade from premium level are both left skewed (especially relative to the average membership duration)\n",
    "Generally speaking the chance that a new user leave Sparkify is highest in the first few weeks"
   ]
  },
  {
   "cell_type": "code",
   "execution_count": 10,
   "metadata": {},
   "outputs": [
    {
     "name": "stdout",
     "output_type": "stream",
     "text": [
      "+---------------+\n",
      "|           page|\n",
      "+---------------+\n",
      "|       NextSong|\n",
      "|       NextSong|\n",
      "|      Thumbs Up|\n",
      "|       NextSong|\n",
      "|       NextSong|\n",
      "|       NextSong|\n",
      "|       NextSong|\n",
      "|       NextSong|\n",
      "|       NextSong|\n",
      "|       NextSong|\n",
      "|    Roll Advert|\n",
      "|    Roll Advert|\n",
      "|       NextSong|\n",
      "|    Roll Advert|\n",
      "|       NextSong|\n",
      "|       NextSong|\n",
      "|       NextSong|\n",
      "|       NextSong|\n",
      "|       NextSong|\n",
      "|       NextSong|\n",
      "|       NextSong|\n",
      "|        Upgrade|\n",
      "|       NextSong|\n",
      "|       NextSong|\n",
      "|       Settings|\n",
      "|       NextSong|\n",
      "|       NextSong|\n",
      "|         Logout|\n",
      "|           Home|\n",
      "|       NextSong|\n",
      "|       NextSong|\n",
      "|    Roll Advert|\n",
      "|       NextSong|\n",
      "|       NextSong|\n",
      "|       NextSong|\n",
      "|       NextSong|\n",
      "|    Roll Advert|\n",
      "|    Roll Advert|\n",
      "|       NextSong|\n",
      "|    Thumbs Down|\n",
      "|       NextSong|\n",
      "|       NextSong|\n",
      "|       NextSong|\n",
      "|         Logout|\n",
      "|           Home|\n",
      "|       NextSong|\n",
      "|      Thumbs Up|\n",
      "|       NextSong|\n",
      "|       NextSong|\n",
      "|Add to Playlist|\n",
      "|       NextSong|\n",
      "|       NextSong|\n",
      "|         Logout|\n",
      "|           Home|\n",
      "|       NextSong|\n",
      "|       NextSong|\n",
      "|         Logout|\n",
      "|           Home|\n",
      "|       NextSong|\n",
      "|       NextSong|\n",
      "|         Logout|\n",
      "|           Home|\n",
      "|       NextSong|\n",
      "|       NextSong|\n",
      "|       NextSong|\n",
      "|       NextSong|\n",
      "|       NextSong|\n",
      "|       NextSong|\n",
      "|    Roll Advert|\n",
      "|       NextSong|\n",
      "|       NextSong|\n",
      "|       NextSong|\n",
      "|    Roll Advert|\n",
      "|    Roll Advert|\n",
      "|       NextSong|\n",
      "|       NextSong|\n",
      "|       NextSong|\n",
      "|       NextSong|\n",
      "|       NextSong|\n",
      "|       NextSong|\n",
      "|    Roll Advert|\n",
      "|       NextSong|\n",
      "|       NextSong|\n",
      "|    Thumbs Down|\n",
      "|       NextSong|\n",
      "|         Logout|\n",
      "|           Home|\n",
      "|       NextSong|\n",
      "|       NextSong|\n",
      "|       NextSong|\n",
      "|       NextSong|\n",
      "|       NextSong|\n",
      "|           Help|\n",
      "|           Home|\n",
      "|       NextSong|\n",
      "|       NextSong|\n",
      "|       NextSong|\n",
      "|    Thumbs Down|\n",
      "|       NextSong|\n",
      "|       NextSong|\n",
      "|       NextSong|\n",
      "|       NextSong|\n",
      "|       NextSong|\n",
      "|       NextSong|\n",
      "|       NextSong|\n",
      "|    Roll Advert|\n",
      "|       NextSong|\n",
      "|    Roll Advert|\n",
      "|       NextSong|\n",
      "|       NextSong|\n",
      "|       NextSong|\n",
      "|       NextSong|\n",
      "|       NextSong|\n",
      "|       NextSong|\n",
      "|       NextSong|\n",
      "|       NextSong|\n",
      "|       NextSong|\n",
      "|       NextSong|\n",
      "|           Home|\n",
      "|       NextSong|\n",
      "|    Roll Advert|\n",
      "|       NextSong|\n",
      "|    Roll Advert|\n",
      "|       NextSong|\n",
      "|    Roll Advert|\n",
      "|       NextSong|\n",
      "|       NextSong|\n",
      "|     Add Friend|\n",
      "|       NextSong|\n",
      "|    Roll Advert|\n",
      "|       NextSong|\n",
      "|Add to Playlist|\n",
      "|       NextSong|\n",
      "|       NextSong|\n",
      "|       NextSong|\n",
      "|      Thumbs Up|\n",
      "|       NextSong|\n",
      "|       NextSong|\n",
      "|       NextSong|\n",
      "|       NextSong|\n",
      "|        Upgrade|\n",
      "| Submit Upgrade|\n",
      "|           Home|\n",
      "|       NextSong|\n",
      "|       NextSong|\n",
      "|       NextSong|\n",
      "|       NextSong|\n",
      "|       NextSong|\n",
      "|       NextSong|\n",
      "|       NextSong|\n",
      "|       NextSong|\n",
      "|       NextSong|\n",
      "|       NextSong|\n",
      "|           Home|\n",
      "|       NextSong|\n",
      "|       NextSong|\n",
      "|       NextSong|\n",
      "|       NextSong|\n",
      "|       NextSong|\n",
      "|       NextSong|\n",
      "|       NextSong|\n",
      "|       NextSong|\n",
      "|       NextSong|\n",
      "|       NextSong|\n",
      "|       NextSong|\n",
      "|       NextSong|\n",
      "|       NextSong|\n",
      "|       NextSong|\n",
      "|       Settings|\n",
      "|  Save Settings|\n",
      "|       Settings|\n",
      "|           Home|\n",
      "|      Downgrade|\n",
      "|       NextSong|\n",
      "|       NextSong|\n",
      "|       NextSong|\n",
      "|       NextSong|\n",
      "|       NextSong|\n",
      "|       NextSong|\n",
      "|       NextSong|\n",
      "|Add to Playlist|\n",
      "|       NextSong|\n",
      "|           Help|\n",
      "|       NextSong|\n",
      "|     Add Friend|\n",
      "|     Add Friend|\n",
      "|       NextSong|\n",
      "+---------------+\n",
      "only showing top 187 rows\n",
      "\n",
      "[churned] error percentage: 0.0007132667617689016\n",
      "[active] error percentage: 0.00094303227742295\n",
      "[churned] roll advert percentage: 0.021554029957203995\n",
      "[active] roll advert percentage: 0.012713789703802134\n",
      "[churned] settings percentage: 0.006018188302425107\n",
      "[active] settings percentage: 0.00533241887779159\n",
      "[churned] help percentage: 0.005327211126961484\n",
      "[active] help percentage: 0.005208110077585837\n",
      "[churned] add friend percentage: 0.014176176890156919\n",
      "[active] add friend percentage: 0.015607184191349823\n",
      "[churned] thumbs down percentage: 0.011055634807417974\n",
      "[active] thumbs down percentage: 0.008787346221441126\n",
      "[churned] thumbs up percentage: 0.04143634094151213\n",
      "[active] thumbs up percentage: 0.04583136868275537\n"
     ]
    }
   ],
   "source": [
    "# split up into activity logs from churned users and users that are still active\n",
    "df_churned_users = event_data_cleaned.filter(event_data_cleaned.user_churn == 1).orderBy(event_data_cleaned.userId)\n",
    "df_active_users = event_data_cleaned.filter(event_data_cleaned.user_churn == 0).orderBy(event_data_cleaned.userId)\n",
    "\n",
    "#Explore User Journey of first user in the set of churned users\n",
    "df_churned_users.select(\"page\").where(event_data_cleaned.userId == '100009').show(187)\n",
    "\n",
    "def calculate_page_ratio(df,page_name):\n",
    "    return df.filter(df.page == page_name).count()/df.count()\n",
    "\n",
    "# analyse all columns that might differ in these two groups (churned users might have seen a higher number of errors)\n",
    "print(\"[churned] error percentage: {}\".format(calculate_page_ratio(df_churned_users,'Error'))) #0.0007132667617689016\n",
    "print(\"[active] error percentage: {}\".format(calculate_page_ratio(df_active_users,'Error'))) #0.00094303227742295\n",
    "print(\"[churned] roll advert percentage: {}\".format(calculate_page_ratio(df_churned_users,'Roll Advert'))) #0.021554029957203995\n",
    "print(\"[active] roll advert percentage: {}\".format(calculate_page_ratio(df_active_users,'Roll Advert'))) #0.012713789703802134\n",
    "print(\"[churned] settings percentage: {}\".format(calculate_page_ratio(df_churned_users,'Settings'))) #0.006018188302425107\n",
    "print(\"[active] settings percentage: {}\".format(calculate_page_ratio(df_active_users,'Settings'))) #0.00533241887779159\n",
    "print(\"[churned] help percentage: {}\".format(calculate_page_ratio(df_churned_users,'Help'))) #0.005327211126961484\n",
    "print(\"[active] help percentage: {}\".format(calculate_page_ratio(df_active_users,'Help'))) #0.005208110077585837\n",
    "print(\"[churned] add friend percentage: {}\".format(calculate_page_ratio(df_churned_users,'Add Friend'))) #0.014176176890156919\n",
    "print(\"[active] add friend percentage: {}\".format(calculate_page_ratio(df_active_users,'Add Friend'))) #0.015607184191349823\n",
    "print(\"[churned] thumbs down percentage: {}\".format(calculate_page_ratio(df_churned_users,'Thumbs Down'))) #0.011055634807417974\n",
    "print(\"[active] thumbs down percentage: {}\".format(calculate_page_ratio(df_active_users,'Thumbs Down'))) #0.008787346221441126\n",
    "print(\"[churned] thumbs up percentage: {}\".format(calculate_page_ratio(df_churned_users,'Thumbs Up'))) #0.04143634094151213\n",
    "print(\"[active] thumbs up percentage: {}\".format(calculate_page_ratio(df_active_users,'Thumbs Up'))) #0.04583136868275537"
   ]
  },
  {
   "cell_type": "markdown",
   "metadata": {},
   "source": [
    "A significant difference in the two groups can be observed in the number of ads ('Roll Advert') the users see, how the users rate the songs ('Thumps up/down'), how often they visit the 'Settings' page and the number of erros a user experiences. While the churned users saw more ads, rated the songs more negatively (more thumbs down and less thumbs up ) and visited the Settings page more often than the active users the active users actually experienced more errors!"
   ]
  },
  {
   "cell_type": "markdown",
   "metadata": {},
   "source": [
    "# Feature Engineering\n",
    "<ol>\n",
    "  <li>activity: number of total events of the user divided by his/her membership duration, aims to show how active the user is on the app</li>\n",
    "  <li>total_friends: number of friends the user has on the app</li>\n",
    "  <li>ads_frequency: how frequent the user sees ads in the app</li>\n",
    "  <li>level: the level of the user (premium vs. free) represented as a binary value</li>\n",
    "  <li>membership_duration: number of days past from the users registration to his/her last recorded action in the user log</li>\n",
    "  <li>gender: the gender of the user represented as a binary value</li>\n",
    "    <li>rating: the difference of thumbs up and thumbs down issued by the user (the value is negative if the user issued more thumbs down than thumbs up)</li>\n",
    "</ol>"
   ]
  },
  {
   "cell_type": "code",
   "execution_count": 11,
   "metadata": {},
   "outputs": [],
   "source": [
    "df_friends = event_data_cleaned.where(event_data_cleaned.page == 'Add Friend') \\\n",
    "                        .groupBy('userId').count().withColumnRenamed('count', 'total_friends')\n",
    "event_data_cleaned = event_data_cleaned.join(df_friends,\"userId\",\"left\")\n",
    "\n",
    "\n",
    "df_ads = event_data_cleaned.where(event_data_cleaned.page == 'Roll Advert') \\\n",
    "                       .groupBy('userId').count().withColumnRenamed('count', 'ads_played')\n",
    "event_data_cleaned = event_data_cleaned.join(df_ads,\"userId\",\"left\")\n",
    "\n",
    "\n",
    "df_thumbs_up = event_data_cleaned.where(event_data_cleaned.page == 'Thumbs Up') \\\n",
    "                       .groupBy('userId').count().withColumnRenamed('count', 'thumbs_up')\n",
    "event_data_cleaned = event_data_cleaned.join(df_thumbs_up,\"userId\",\"left\")\n",
    "\n",
    "df_thumbs_down = event_data_cleaned.where(event_data_cleaned.page == 'Thumbs Down') \\\n",
    "                       .groupBy('userId').count().withColumnRenamed('count', 'thumbs_down')\n",
    "event_data_cleaned = event_data_cleaned.join(df_thumbs_down,\"userId\",\"left\")\n",
    "\n",
    "df_total_events = event_data_cleaned.groupBy('userId').count().withColumnRenamed('count', 'total_events')\n",
    "event_data_cleaned = event_data_cleaned.join(df_total_events,\"userId\",\"left\")\n"
   ]
  },
  {
   "cell_type": "code",
   "execution_count": 12,
   "metadata": {},
   "outputs": [
    {
     "name": "stdout",
     "output_type": "stream",
     "text": [
      "+------+----------+-------------+---------+-----------+\n",
      "|userId|ads_played|total_friends|thumbs_up|thumbs_down|\n",
      "+------+----------+-------------+---------+-----------+\n",
      "|100010|        52|            4|       17|          5|\n",
      "|200002|         7|            4|       21|          6|\n",
      "|   125|         1|            0|        0|          0|\n",
      "|   124|         4|           74|      171|         41|\n",
      "|    51|         0|           28|      100|         21|\n",
      "|     7|        16|            1|        7|          1|\n",
      "|    15|         1|           31|       81|         14|\n",
      "|    54|        47|           33|      163|         29|\n",
      "|   155|         8|           11|       58|          3|\n",
      "|100014|         2|            6|       17|          3|\n",
      "|   132|         2|           41|       96|         17|\n",
      "|   154|        10|            3|       11|          0|\n",
      "|   101|         8|           29|       86|         16|\n",
      "|    11|        39|            6|       40|          9|\n",
      "|   138|        17|           41|       95|         24|\n",
      "|300017|        11|           63|      303|         28|\n",
      "|100021|        30|            7|       11|          5|\n",
      "|    29|        22|           47|      154|         22|\n",
      "|    69|         3|           12|       72|          9|\n",
      "|   112|        21|            7|        9|          3|\n",
      "+------+----------+-------------+---------+-----------+\n",
      "only showing top 20 rows\n",
      "\n"
     ]
    }
   ],
   "source": [
    "#fill the new numeric features with 0 (no recorded action of this type)\n",
    "event_data_cleaned = event_data_cleaned.fillna(0,subset = ['ads_played','total_friends','thumbs_up','thumbs_down'])\n",
    "#show new features\n",
    "event_data_cleaned.select (['userId','ads_played','total_friends','thumbs_up','thumbs_down']).dropDuplicates().show()"
   ]
  },
  {
   "cell_type": "code",
   "execution_count": 13,
   "metadata": {},
   "outputs": [],
   "source": [
    "#calculate frequency of ad impressions instead of total count\n",
    "event_data_cleaned = event_data_cleaned.withColumn('ads_frequency', \\\n",
    "                                              (event_data_cleaned['ads_played'] / event_data_cleaned['total_events']))"
   ]
  },
  {
   "cell_type": "code",
   "execution_count": 14,
   "metadata": {},
   "outputs": [],
   "source": [
    "#calculate the rating by subtracting the number of given thumbs_down from the number of thumbs up\n",
    "event_data_cleaned = event_data_cleaned.withColumn('rating', \\\n",
    "                                              (event_data_cleaned['thumbs_up'] - event_data_cleaned['thumbs_down']))"
   ]
  },
  {
   "cell_type": "code",
   "execution_count": 15,
   "metadata": {},
   "outputs": [
    {
     "name": "stdout",
     "output_type": "stream",
     "text": [
      "278154\n",
      "+------+--------------------+---------+---------+------+-------------+---------+---------+-----+--------------------+------+-----------+-------------+---------+--------------------+------+-------------+--------------------+-----+----------+-------------------+-------------+----------+---------+-----------+------------+-------------------+------+\n",
      "|userId|              artist|     auth|firstName|gender|itemInSession| lastName|   length|level|            location|method|       page| registration|sessionId|                song|status|           ts|           userAgent|churn|user_churn|membership_duration|total_friends|ads_played|thumbs_up|thumbs_down|total_events|      ads_frequency|rating|\n",
      "+------+--------------------+---------+---------+------+-------------+---------+---------+-----+--------------------+------+-----------+-------------+---------+--------------------+------+-------------+--------------------+-----+----------+-------------------+-------------+----------+---------+-----------+------------+-------------------+------+\n",
      "|100010|Sleeping With Sirens|Logged In| Darianna|     F|            0|Carpenter|202.97098| free|Bridgeport-Stamfo...|   PUT|   NextSong|1538016340000|       31|Captain Tyin Knot...|   200|1539003534000|\"Mozilla/5.0 (iPh...|    0|         0|                 11|            4|        52|       17|          5|         381|0.13648293963254593|    12|\n",
      "|100010|Francesca Battist...|Logged In| Darianna|     F|            1|Carpenter|196.54485| free|Bridgeport-Stamfo...|   PUT|   NextSong|1538016340000|       31|Beautiful_ Beauti...|   200|1539003736000|\"Mozilla/5.0 (iPh...|    0|         0|                 11|            4|        52|       17|          5|         381|0.13648293963254593|    12|\n",
      "|100010|              Brutha|Logged In| Darianna|     F|            2|Carpenter|263.13098| free|Bridgeport-Stamfo...|   PUT|   NextSong|1538016340000|       31|          She's Gone|   200|1539003932000|\"Mozilla/5.0 (iPh...|    0|         0|                 11|            4|        52|       17|          5|         381|0.13648293963254593|    12|\n",
      "|100010|                null|Logged In| Darianna|     F|            3|Carpenter|     null| free|Bridgeport-Stamfo...|   PUT|  Thumbs Up|1538016340000|       31|                null|   307|1539003933000|\"Mozilla/5.0 (iPh...|    0|         0|                 11|            4|        52|       17|          5|         381|0.13648293963254593|    12|\n",
      "|100010|         Josh Ritter|Logged In| Darianna|     F|            4|Carpenter|316.23791| free|Bridgeport-Stamfo...|   PUT|   NextSong|1538016340000|       31|      Folk Bloodbath|   200|1539004195000|\"Mozilla/5.0 (iPh...|    0|         0|                 11|            4|        52|       17|          5|         381|0.13648293963254593|    12|\n",
      "|100010|               LMFAO|Logged In| Darianna|     F|            5|Carpenter|183.74485| free|Bridgeport-Stamfo...|   PUT|   NextSong|1538016340000|       31|                 Yes|   200|1539004511000|\"Mozilla/5.0 (iPh...|    0|         0|                 11|            4|        52|       17|          5|         381|0.13648293963254593|    12|\n",
      "|100010|         OneRepublic|Logged In| Darianna|     F|            6|Carpenter|224.67873| free|Bridgeport-Stamfo...|   PUT|   NextSong|1538016340000|       31|             Secrets|   200|1539004694000|\"Mozilla/5.0 (iPh...|    0|         0|                 11|            4|        52|       17|          5|         381|0.13648293963254593|    12|\n",
      "|100010|       Dwight Yoakam|Logged In| Darianna|     F|            7|Carpenter| 239.3073| free|Bridgeport-Stamfo...|   PUT|   NextSong|1538016340000|       31|      You're The One|   200|1539004918000|\"Mozilla/5.0 (iPh...|    0|         0|                 11|            4|        52|       17|          5|         381|0.13648293963254593|    12|\n",
      "|100010|                null|Logged In| Darianna|     F|            8|Carpenter|     null| free|Bridgeport-Stamfo...|   GET|Roll Advert|1538016340000|       31|                null|   200|1539004961000|\"Mozilla/5.0 (iPh...|    0|         0|                 11|            4|        52|       17|          5|         381|0.13648293963254593|    12|\n",
      "|100010|      The Chordettes|Logged In| Darianna|     F|            9|Carpenter|142.41914| free|Bridgeport-Stamfo...|   PUT|   NextSong|1538016340000|       31|          Mr Sandman|   200|1539005157000|\"Mozilla/5.0 (iPh...|    0|         0|                 11|            4|        52|       17|          5|         381|0.13648293963254593|    12|\n",
      "|100010|Coko featuring Ki...|Logged In| Darianna|     F|           10|Carpenter| 249.3122| free|Bridgeport-Stamfo...|   PUT|   NextSong|1538016340000|       31|           I Get Joy|   200|1539005299000|\"Mozilla/5.0 (iPh...|    0|         0|                 11|            4|        52|       17|          5|         381|0.13648293963254593|    12|\n",
      "|100010|            The Cure|Logged In| Darianna|     F|           11|Carpenter| 52.27057| free|Bridgeport-Stamfo...|   PUT|   NextSong|1538016340000|       31|     The Final Sound|   200|1539005548000|\"Mozilla/5.0 (iPh...|    0|         0|                 11|            4|        52|       17|          5|         381|0.13648293963254593|    12|\n",
      "|100010|                null|Logged In| Darianna|     F|           12|Carpenter|     null| free|Bridgeport-Stamfo...|   GET|Roll Advert|1538016340000|       31|                null|   200|1539005571000|\"Mozilla/5.0 (iPh...|    0|         0|                 11|            4|        52|       17|          5|         381|0.13648293963254593|    12|\n",
      "|100010|Kid Cudi Vs Crookers|Logged In| Darianna|     F|           13|Carpenter|162.97751| free|Bridgeport-Stamfo...|   PUT|   NextSong|1538016340000|       31|        Day 'N' Nite|   200|1539005600000|\"Mozilla/5.0 (iPh...|    0|         0|                 11|            4|        52|       17|          5|         381|0.13648293963254593|    12|\n",
      "|100010|                null|Logged In| Darianna|     F|           14|Carpenter|     null| free|Bridgeport-Stamfo...|   PUT|  Thumbs Up|1538016340000|       31|                null|   307|1539005601000|\"Mozilla/5.0 (iPh...|    0|         0|                 11|            4|        52|       17|          5|         381|0.13648293963254593|    12|\n",
      "|100010|            Yeasayer|Logged In| Darianna|     F|           15|Carpenter|323.44771| free|Bridgeport-Stamfo...|   PUT|   NextSong|1538016340000|       31|                2080|   200|1539005762000|\"Mozilla/5.0 (iPh...|    0|         0|                 11|            4|        52|       17|          5|         381|0.13648293963254593|    12|\n",
      "|100010|             Ben Lee|Logged In| Darianna|     F|           16|Carpenter|245.78567| free|Bridgeport-Stamfo...|   PUT|   NextSong|1538016340000|       31|        Ache For You|   200|1539006085000|\"Mozilla/5.0 (iPh...|    0|         0|                 11|            4|        52|       17|          5|         381|0.13648293963254593|    12|\n",
      "|100010|                null|Logged In| Darianna|     F|           17|Carpenter|     null| free|Bridgeport-Stamfo...|   GET|Roll Advert|1538016340000|       31|                null|   200|1539006103000|\"Mozilla/5.0 (iPh...|    0|         0|                 11|            4|        52|       17|          5|         381|0.13648293963254593|    12|\n",
      "|100010|  ? & The Mysterians|Logged In| Darianna|     F|           18|Carpenter|128.10404| free|Bridgeport-Stamfo...|   PUT|   NextSong|1538016340000|       31|    Just Like A Rose|   200|1539006330000|\"Mozilla/5.0 (iPh...|    0|         0|                 11|            4|        52|       17|          5|         381|0.13648293963254593|    12|\n",
      "|100010|                null|Logged In| Darianna|     F|           19|Carpenter|     null| free|Bridgeport-Stamfo...|   GET|Roll Advert|1538016340000|       31|                null|   200|1539006331000|\"Mozilla/5.0 (iPh...|    0|         0|                 11|            4|        52|       17|          5|         381|0.13648293963254593|    12|\n",
      "+------+--------------------+---------+---------+------+-------------+---------+---------+-----+--------------------+------+-----------+-------------+---------+--------------------+------+-------------+--------------------+-----+----------+-------------------+-------------+----------+---------+-----------+------------+-------------------+------+\n",
      "only showing top 20 rows\n",
      "\n"
     ]
    }
   ],
   "source": [
    "print(event_data_cleaned.count())\n",
    "event_data_cleaned.show()"
   ]
  },
  {
   "cell_type": "code",
   "execution_count": 16,
   "metadata": {},
   "outputs": [],
   "source": [
    "event_data_cleaned_pandas = event_data_cleaned.toPandas()"
   ]
  },
  {
   "cell_type": "code",
   "execution_count": 17,
   "metadata": {},
   "outputs": [],
   "source": [
    "event_data_cleaned_pandas = event_data_cleaned_pandas.drop_duplicates(subset=['userId'],keep='last')"
   ]
  },
  {
   "cell_type": "code",
   "execution_count": 18,
   "metadata": {},
   "outputs": [
    {
     "data": {
      "text/plain": [
       "<matplotlib.legend.Legend at 0x7f6f7d69b828>"
      ]
     },
     "execution_count": 18,
     "metadata": {},
     "output_type": "execute_result"
    },
    {
     "data": {
      "image/png": "[encoded data removed]",
      "text/plain": [
       "<matplotlib.figure.Figure at 0x7f6f7d69b908>"
      ]
     },
     "metadata": {
      "needs_background": "light"
     },
     "output_type": "display_data"
    }
   ],
   "source": [
    "# check distribution of new columns\n",
    "sns.distplot(event_data_cleaned_pandas.ads_frequency)\n",
    "plt.legend(labels=['Ads Frequency'])"
   ]
  },
  {
   "cell_type": "code",
   "execution_count": 19,
   "metadata": {},
   "outputs": [
    {
     "data": {
      "text/plain": [
       "<matplotlib.legend.Legend at 0x7f6f7d6de2b0>"
      ]
     },
     "execution_count": 19,
     "metadata": {},
     "output_type": "execute_result"
    },
    {
     "data": {
      "image/png": "[encoded data removed]",
      "text/plain": [
       "<matplotlib.figure.Figure at 0x7f6f7d6decc0>"
      ]
     },
     "metadata": {
      "needs_background": "light"
     },
     "output_type": "display_data"
    }
   ],
   "source": [
    "# check distribution of new columns\n",
    "sns.distplot(event_data_cleaned_pandas.total_friends)\n",
    "plt.legend(labels=['Friends'])"
   ]
  },
  {
   "cell_type": "code",
   "execution_count": 20,
   "metadata": {},
   "outputs": [
    {
     "data": {
      "text/plain": [
       "<matplotlib.legend.Legend at 0x7f6f6e4ff400>"
      ]
     },
     "execution_count": 20,
     "metadata": {},
     "output_type": "execute_result"
    },
    {
     "data": {
      "image/png": "[encoded data removed]",
      "text/plain": [
       "<matplotlib.figure.Figure at 0x7f6f6e4ff160>"
      ]
     },
     "metadata": {
      "needs_background": "light"
     },
     "output_type": "display_data"
    }
   ],
   "source": [
    "# check distribution of new columns\n",
    "sns.distplot(event_data_cleaned_pandas.rating)\n",
    "plt.legend(labels=['Rating'])"
   ]
  },
  {
   "cell_type": "code",
   "execution_count": 21,
   "metadata": {},
   "outputs": [],
   "source": [
    "#use entry with the highest membership duration = last user state before churning/not churning\n",
    "user_data_logs = event_data_cleaned.select('userId','gender','level','user_churn','membership_duration','ts','total_friends','ads_frequency','rating','total_events').dropDuplicates()\n",
    "\n",
    "#https://stackoverflow.com/questions/48829993/groupby-column-and-filter-rows-with-maximum-value-in-pyspark\n",
    "user_data = user_data_logs.withColumn(\"row\", row_number().over(Window.partitionBy('UserId').orderBy(col(\"ts\").desc())))\\\n",
    "  .filter(col(\"row\") == 1).drop(\"row\")"
   ]
  },
  {
   "cell_type": "code",
   "execution_count": 22,
   "metadata": {},
   "outputs": [
    {
     "name": "stdout",
     "output_type": "stream",
     "text": [
      "+------+------+-----+----------+-------------------+-------------+-------------+--------------------+------+------------+\n",
      "|userId|gender|level|user_churn|membership_duration|           ts|total_friends|       ads_frequency|rating|total_events|\n",
      "+------+------+-----+----------+-------------------+-------------+-------------+--------------------+------+------------+\n",
      "|100010|     F| free|         0|                 55|1542823952000|            4| 0.13648293963254593|    12|         381|\n",
      "|200002|     M| paid|         0|                 70|1542324354000|            4|0.014767932489451477|    15|         474|\n",
      "|   125|     M| free|         1|                 71|1539318918000|            0| 0.09090909090909091|     0|          11|\n",
      "|   124|     F| paid|         0|                131|1543590766000|           74|8.290155440414508E-4|   130|        4825|\n",
      "|    51|     M| paid|         1|                 19|1539761972000|           28|                 0.0|    79|        2464|\n",
      "|     7|     M| free|         0|                 72|1542955611000|            1| 0.07960199004975124|     6|         201|\n",
      "|    15|     M| paid|         0|                 56|1543121818000|           31|4.389815627743635E-4|    67|        2278|\n",
      "|    54|     F| paid|         1|                110|1542051608000|           33|0.013674716322374164|   134|        3437|\n",
      "|   155|     F| paid|         0|                 23|1543405710000|           11|0.007984031936127744|    55|        1002|\n",
      "|100014|     M| paid|         1|                 85|1542740649000|            6|0.006451612903225...|    14|         310|\n",
      "|   132|     F| paid|         0|                 66|1542833772000|           41|8.680555555555555E-4|    79|        2304|\n",
      "|   154|     F| free|         0|                 23|1543330565000|            3|  0.0847457627118644|    11|         118|\n",
      "|   101|     M| paid|         1|                 53|1539729037000|           29|0.003722661703117...|    70|        2149|\n",
      "|    11|     F| paid|         0|                124|1543309702000|            6|0.045990566037735846|    31|         848|\n",
      "|   138|     M| paid|         0|                 66|1543622365000|           41| 0.00688537869582827|    71|        2469|\n",
      "|300017|     F| paid|         0|                 74|1543507087000|           63|0.002484191508581...|   275|        4428|\n",
      "|100021|     M| free|         1|                 64|1543143782000|            7| 0.09404388714733543|     6|         319|\n",
      "|    29|     M| paid|         1|                 60|1542181031000|           47|0.006106022758812101|   132|        3603|\n",
      "|    69|     F| paid|         0|                 71|1542995231000|           12|0.002235469448584...|    63|        1342|\n",
      "|   112|     M| free|         0|                 87|1543589452000|            7| 0.07191780821917808|     6|         292|\n",
      "+------+------+-----+----------+-------------------+-------------+-------------+--------------------+------+------------+\n",
      "only showing top 20 rows\n",
      "\n",
      "+--------+------+-----+-----+-------------------+-------------+-------------+------+------------+-------------------+\n",
      "|  userId|gender|level|label|membership_duration|total_friends|ads_frequency|rating|total_events|           activity|\n",
      "+--------+------+-----+-----+-------------------+-------------+-------------+------+------------+-------------------+\n",
      "|   156.0|   0.0|  0.0|    0|                0.0|          0.0|   0.16666667|   0.0|         6.0|                0.0|\n",
      "|   135.0|   1.0|  0.0|    0|               72.0|          0.0|          0.0|   0.0|         6.0|0.08333333333333333|\n",
      "|   125.0|   0.0|  0.0|    1|               71.0|          0.0|   0.09090909|   0.0|        11.0|0.15492957746478872|\n",
      "|300003.0|   0.0|  0.0|    0|               99.0|          0.0|  0.057142857|   2.0|        35.0|0.35353535353535354|\n",
      "|    90.0|   0.0|  0.0|    0|              101.0|          0.0|   0.06666667|   0.0|        45.0|0.44554455445544555|\n",
      "|    68.0|   1.0|  0.0|    0|              100.0|          7.0|  0.083333336|   2.0|        48.0|               0.48|\n",
      "|    22.0|   1.0|  0.0|    0|               61.0|          3.0|          0.1|   3.0|        40.0| 0.6557377049180327|\n",
      "|   134.0|   0.0|  0.0|    0|               65.0|          0.0|  0.057692308|   2.0|        52.0|                0.8|\n",
      "|   116.0|   1.0|  0.0|    0|               93.0|          2.0|   0.03797468|   1.0|        79.0| 0.8494623655913979|\n",
      "|    72.0|   1.0|  0.0|    0|              124.0|          3.0|   0.08547009|   5.0|       117.0| 0.9435483870967742|\n",
      "|100017.0|   0.0|  0.0|    1|               78.0|          0.0|   0.18666667|   1.0|        75.0| 0.9615384615384616|\n",
      "|    34.0|   0.0|  0.0|    0|               71.0|          0.0|   0.04109589|   2.0|        73.0|  1.028169014084507|\n",
      "|   133.0|   0.0|  0.0|    0|               39.0|          1.0|  0.022727273|   2.0|        44.0| 1.1282051282051282|\n",
      "|   119.0|   1.0|  0.0|    0|              188.0|          4.0|  0.040358745|   6.0|       223.0| 1.1861702127659575|\n",
      "|   122.0|   1.0|  1.0|    1|               52.0|          1.0|  0.032258064|   2.0|        62.0| 1.1923076923076923|\n",
      "|   144.0|   0.0|  0.0|    0|               98.0|          4.0|        0.072|   3.0|       125.0| 1.2755102040816326|\n",
      "|    57.0|   0.0|  0.0|    0|               87.0|          0.0|   0.05357143|   1.0|       112.0| 1.2873563218390804|\n",
      "|200012.0|   0.0|  0.0|    0|               65.0|          3.0|    0.0952381|   2.0|        84.0| 1.2923076923076924|\n",
      "|100024.0|   0.0|  0.0|    1|               27.0|          0.0|  0.083333336|   5.0|        36.0| 1.3333333333333333|\n",
      "|100002.0|   1.0|  1.0|    0|              160.0|          1.0|  0.013761468|   5.0|       218.0|             1.3625|\n",
      "+--------+------+-----+-----+-------------------+-------------+-------------+------+------------+-------------------+\n",
      "only showing top 20 rows\n",
      "\n"
     ]
    }
   ],
   "source": [
    "user_data.show()\n",
    "user_data = user_data.withColumn(\"gender\", when(col(\"gender\") == \"M\", 0).otherwise(when(col(\"gender\") =='F', 1).cast(\"int\")))\n",
    "user_data = user_data.withColumn(\"level\", when(col(\"level\") == \"free\", 0).otherwise(when(col(\"level\") =='paid', 1).cast(\"int\")))\n",
    "user_data = user_data.drop('ts')\n",
    "user_data = user_data.select(*(col(c).cast(\"float\").alias(c) for c in user_data.columns))\n",
    "user_data = user_data.withColumnRenamed('user_churn','label')\n",
    "user_data = user_data.withColumn(\"label\",user_data.label.cast('integer'))\n",
    "user_data = user_data.withColumn('activity',(user_data['total_events'] / user_data['membership_duration']))\n",
    "user_data = user_data.fillna(0,subset = ['activity'])\n",
    "user_data.orderBy('activity').show()"
   ]
  },
  {
   "cell_type": "code",
   "execution_count": 23,
   "metadata": {},
   "outputs": [],
   "source": [
    "#user_data_final.write.json('sparkify_user_data2.json')"
   ]
  },
  {
   "cell_type": "markdown",
   "metadata": {},
   "source": [
    "# Modeling\n"
   ]
  },
  {
   "cell_type": "code",
   "execution_count": 24,
   "metadata": {},
   "outputs": [],
   "source": [
    "def train_model(data,classifier,params,feature_names):\n",
    "    \"\"\" Fits classifier to given data using corss validation appraoch\n",
    "    Args:\n",
    "      data (DataFrame): data used to train the classifier\n",
    "      classifier (pyspark.ml.classification): PySpark classifier object\n",
    "      params (ParamGrid): parameter grid used in the cross validation approach fo fine tune the model\n",
    "      feature_names (list): names of all features of the dataframe that should be used for training\n",
    "    \"\"\"\n",
    "    assembler = VectorAssembler(inputCols = feature_names, outputCol='numerical_features')    \n",
    "    scaler = StandardScaler(inputCol=\"numerical_features\", outputCol=\"features\")\n",
    "    pipeline = Pipeline(stages=[assembler, scaler, classifier])\n",
    "  \n",
    "\n",
    "    crossval= CrossValidator(estimator=pipeline,  \n",
    "                             estimatorParamMaps=params,\n",
    "                             evaluator=BinaryClassificationEvaluator(), \n",
    "                             numFolds=3\n",
    "                             )\n",
    "    start = time.time()\n",
    "    # fit the cross validation linear support vector machine model\n",
    "    model = crossval.fit(training) \n",
    "    end = time.time()\n",
    "    print(f'Model fitting took {end-start} seconds')\n",
    "    return model"
   ]
  },
  {
   "cell_type": "code",
   "execution_count": 25,
   "metadata": {},
   "outputs": [],
   "source": [
    "def evaluate_model(results):\n",
    "    \"\"\" Method for evaluation the results of any model. Calculates f1_score and accuracy using the models predictions\n",
    "    Args:\n",
    "      results (DataFrame): dataframe containing the predictions of the model and the original labels \n",
    "    \"\"\"\n",
    "    correct_predictions = (results.filter(results.label == results.prediction).count())\n",
    "    total_predictions = (results.count())\n",
    "    churn_predictions = (results.filter( '1.0' == results.prediction).count())\n",
    "    results_pd = results.toPandas()\n",
    "    print('f1_score: {}'.format(f1_score(results_pd.label.values,results_pd.prediction.values)))\n",
    "    print('accuracy: {}'.format(accuracy_score(results_pd.label.values,results_pd.prediction.values)))\n",
    "    print('predicted user churn ration: {}'.format(churn_predictions/total_predictions))"
   ]
  },
  {
   "cell_type": "code",
   "execution_count": 27,
   "metadata": {},
   "outputs": [
    {
     "ename": "KeyboardInterrupt",
     "evalue": "",
     "output_type": "error",
     "traceback": [
      "\u001b[0;31m---------------------------------------------------------------------------\u001b[0m",
      "\u001b[0;31mKeyboardInterrupt\u001b[0m                         Traceback (most recent call last)",
      "\u001b[0;32m<ipython-input-27-fd9b6eb04c7e>\u001b[0m in \u001b[0;36m<module>\u001b[0;34m()\u001b[0m\n\u001b[1;32m      2\u001b[0m \u001b[0;31m#show distribution of user churn in test and training data to get an idea of the baseline for our model eg.\u001b[0m\u001b[0;34m\u001b[0m\u001b[0;34m\u001b[0m\u001b[0m\n\u001b[1;32m      3\u001b[0m \u001b[0;31m#baseling = performance of model thatl always guesses 0 = user does not churn\u001b[0m\u001b[0;34m\u001b[0m\u001b[0;34m\u001b[0m\u001b[0m\n\u001b[0;32m----> 4\u001b[0;31m \u001b[0mprint\u001b[0m\u001b[0;34m(\u001b[0m\u001b[0mtraining\u001b[0m\u001b[0;34m.\u001b[0m\u001b[0mfilter\u001b[0m\u001b[0;34m(\u001b[0m\u001b[0mcol\u001b[0m\u001b[0;34m(\u001b[0m\u001b[0;34m'label'\u001b[0m\u001b[0;34m)\u001b[0m \u001b[0;34m==\u001b[0m \u001b[0;36m0\u001b[0m\u001b[0;34m)\u001b[0m\u001b[0;34m.\u001b[0m\u001b[0mcount\u001b[0m\u001b[0;34m(\u001b[0m\u001b[0;34m)\u001b[0m\u001b[0;34m/\u001b[0m\u001b[0mtraining\u001b[0m\u001b[0;34m.\u001b[0m\u001b[0mcount\u001b[0m\u001b[0;34m(\u001b[0m\u001b[0;34m)\u001b[0m\u001b[0;34m)\u001b[0m\u001b[0;34m\u001b[0m\u001b[0m\n\u001b[0m\u001b[1;32m      5\u001b[0m \u001b[0mprint\u001b[0m\u001b[0;34m(\u001b[0m\u001b[0mtest\u001b[0m\u001b[0;34m.\u001b[0m\u001b[0mfilter\u001b[0m\u001b[0;34m(\u001b[0m\u001b[0mcol\u001b[0m\u001b[0;34m(\u001b[0m\u001b[0;34m'label'\u001b[0m\u001b[0;34m)\u001b[0m \u001b[0;34m==\u001b[0m \u001b[0;36m0\u001b[0m\u001b[0;34m)\u001b[0m\u001b[0;34m.\u001b[0m\u001b[0mcount\u001b[0m\u001b[0;34m(\u001b[0m\u001b[0;34m)\u001b[0m\u001b[0;34m/\u001b[0m\u001b[0mtest\u001b[0m\u001b[0;34m.\u001b[0m\u001b[0mcount\u001b[0m\u001b[0;34m(\u001b[0m\u001b[0;34m)\u001b[0m\u001b[0;34m)\u001b[0m\u001b[0;34m\u001b[0m\u001b[0m\n",
      "\u001b[0;32m/opt/spark-2.4.3-bin-hadoop2.7/python/pyspark/sql/dataframe.py\u001b[0m in \u001b[0;36mcount\u001b[0;34m(self)\u001b[0m\n\u001b[1;32m    520\u001b[0m         \u001b[0;36m2\u001b[0m\u001b[0;34m\u001b[0m\u001b[0m\n\u001b[1;32m    521\u001b[0m         \"\"\"\n\u001b[0;32m--> 522\u001b[0;31m         \u001b[0;32mreturn\u001b[0m \u001b[0mint\u001b[0m\u001b[0;34m(\u001b[0m\u001b[0mself\u001b[0m\u001b[0;34m.\u001b[0m\u001b[0m_jdf\u001b[0m\u001b[0;34m.\u001b[0m\u001b[0mcount\u001b[0m\u001b[0;34m(\u001b[0m\u001b[0;34m)\u001b[0m\u001b[0;34m)\u001b[0m\u001b[0;34m\u001b[0m\u001b[0m\n\u001b[0m\u001b[1;32m    523\u001b[0m \u001b[0;34m\u001b[0m\u001b[0m\n\u001b[1;32m    524\u001b[0m     \u001b[0;34m@\u001b[0m\u001b[0mignore_unicode_prefix\u001b[0m\u001b[0;34m\u001b[0m\u001b[0m\n",
      "\u001b[0;32m/opt/spark-2.4.3-bin-hadoop2.7/python/lib/py4j-0.10.7-src.zip/py4j/java_gateway.py\u001b[0m in \u001b[0;36m__call__\u001b[0;34m(self, *args)\u001b[0m\n\u001b[1;32m   1253\u001b[0m             \u001b[0mproto\u001b[0m\u001b[0;34m.\u001b[0m\u001b[0mEND_COMMAND_PART\u001b[0m\u001b[0;34m\u001b[0m\u001b[0m\n\u001b[1;32m   1254\u001b[0m \u001b[0;34m\u001b[0m\u001b[0m\n\u001b[0;32m-> 1255\u001b[0;31m         \u001b[0manswer\u001b[0m \u001b[0;34m=\u001b[0m \u001b[0mself\u001b[0m\u001b[0;34m.\u001b[0m\u001b[0mgateway_client\u001b[0m\u001b[0;34m.\u001b[0m\u001b[0msend_command\u001b[0m\u001b[0;34m(\u001b[0m\u001b[0mcommand\u001b[0m\u001b[0;34m)\u001b[0m\u001b[0;34m\u001b[0m\u001b[0m\n\u001b[0m\u001b[1;32m   1256\u001b[0m         return_value = get_return_value(\n\u001b[1;32m   1257\u001b[0m             answer, self.gateway_client, self.target_id, self.name)\n",
      "\u001b[0;32m/opt/spark-2.4.3-bin-hadoop2.7/python/lib/py4j-0.10.7-src.zip/py4j/java_gateway.py\u001b[0m in \u001b[0;36msend_command\u001b[0;34m(self, command, retry, binary)\u001b[0m\n\u001b[1;32m    983\u001b[0m         \u001b[0mconnection\u001b[0m \u001b[0;34m=\u001b[0m \u001b[0mself\u001b[0m\u001b[0;34m.\u001b[0m\u001b[0m_get_connection\u001b[0m\u001b[0;34m(\u001b[0m\u001b[0;34m)\u001b[0m\u001b[0;34m\u001b[0m\u001b[0m\n\u001b[1;32m    984\u001b[0m         \u001b[0;32mtry\u001b[0m\u001b[0;34m:\u001b[0m\u001b[0;34m\u001b[0m\u001b[0m\n\u001b[0;32m--> 985\u001b[0;31m             \u001b[0mresponse\u001b[0m \u001b[0;34m=\u001b[0m \u001b[0mconnection\u001b[0m\u001b[0;34m.\u001b[0m\u001b[0msend_command\u001b[0m\u001b[0;34m(\u001b[0m\u001b[0mcommand\u001b[0m\u001b[0;34m)\u001b[0m\u001b[0;34m\u001b[0m\u001b[0m\n\u001b[0m\u001b[1;32m    986\u001b[0m             \u001b[0;32mif\u001b[0m \u001b[0mbinary\u001b[0m\u001b[0;34m:\u001b[0m\u001b[0;34m\u001b[0m\u001b[0m\n\u001b[1;32m    987\u001b[0m                 \u001b[0;32mreturn\u001b[0m \u001b[0mresponse\u001b[0m\u001b[0;34m,\u001b[0m \u001b[0mself\u001b[0m\u001b[0;34m.\u001b[0m\u001b[0m_create_connection_guard\u001b[0m\u001b[0;34m(\u001b[0m\u001b[0mconnection\u001b[0m\u001b[0;34m)\u001b[0m\u001b[0;34m\u001b[0m\u001b[0m\n",
      "\u001b[0;32m/opt/spark-2.4.3-bin-hadoop2.7/python/lib/py4j-0.10.7-src.zip/py4j/java_gateway.py\u001b[0m in \u001b[0;36msend_command\u001b[0;34m(self, command)\u001b[0m\n\u001b[1;32m   1150\u001b[0m \u001b[0;34m\u001b[0m\u001b[0m\n\u001b[1;32m   1151\u001b[0m         \u001b[0;32mtry\u001b[0m\u001b[0;34m:\u001b[0m\u001b[0;34m\u001b[0m\u001b[0m\n\u001b[0;32m-> 1152\u001b[0;31m             \u001b[0manswer\u001b[0m \u001b[0;34m=\u001b[0m \u001b[0msmart_decode\u001b[0m\u001b[0;34m(\u001b[0m\u001b[0mself\u001b[0m\u001b[0;34m.\u001b[0m\u001b[0mstream\u001b[0m\u001b[0;34m.\u001b[0m\u001b[0mreadline\u001b[0m\u001b[0;34m(\u001b[0m\u001b[0;34m)\u001b[0m\u001b[0;34m[\u001b[0m\u001b[0;34m:\u001b[0m\u001b[0;34m-\u001b[0m\u001b[0;36m1\u001b[0m\u001b[0;34m]\u001b[0m\u001b[0;34m)\u001b[0m\u001b[0;34m\u001b[0m\u001b[0m\n\u001b[0m\u001b[1;32m   1153\u001b[0m             \u001b[0mlogger\u001b[0m\u001b[0;34m.\u001b[0m\u001b[0mdebug\u001b[0m\u001b[0;34m(\u001b[0m\u001b[0;34m\"Answer received: {0}\"\u001b[0m\u001b[0;34m.\u001b[0m\u001b[0mformat\u001b[0m\u001b[0;34m(\u001b[0m\u001b[0manswer\u001b[0m\u001b[0;34m)\u001b[0m\u001b[0;34m)\u001b[0m\u001b[0;34m\u001b[0m\u001b[0m\n\u001b[1;32m   1154\u001b[0m             \u001b[0;32mif\u001b[0m \u001b[0manswer\u001b[0m\u001b[0;34m.\u001b[0m\u001b[0mstartswith\u001b[0m\u001b[0;34m(\u001b[0m\u001b[0mproto\u001b[0m\u001b[0;34m.\u001b[0m\u001b[0mRETURN_MESSAGE\u001b[0m\u001b[0;34m)\u001b[0m\u001b[0;34m:\u001b[0m\u001b[0;34m\u001b[0m\u001b[0m\n",
      "\u001b[0;32m/opt/conda/lib/python3.6/socket.py\u001b[0m in \u001b[0;36mreadinto\u001b[0;34m(self, b)\u001b[0m\n\u001b[1;32m    584\u001b[0m         \u001b[0;32mwhile\u001b[0m \u001b[0;32mTrue\u001b[0m\u001b[0;34m:\u001b[0m\u001b[0;34m\u001b[0m\u001b[0m\n\u001b[1;32m    585\u001b[0m             \u001b[0;32mtry\u001b[0m\u001b[0;34m:\u001b[0m\u001b[0;34m\u001b[0m\u001b[0m\n\u001b[0;32m--> 586\u001b[0;31m                 \u001b[0;32mreturn\u001b[0m \u001b[0mself\u001b[0m\u001b[0;34m.\u001b[0m\u001b[0m_sock\u001b[0m\u001b[0;34m.\u001b[0m\u001b[0mrecv_into\u001b[0m\u001b[0;34m(\u001b[0m\u001b[0mb\u001b[0m\u001b[0;34m)\u001b[0m\u001b[0;34m\u001b[0m\u001b[0m\n\u001b[0m\u001b[1;32m    587\u001b[0m             \u001b[0;32mexcept\u001b[0m \u001b[0mtimeout\u001b[0m\u001b[0;34m:\u001b[0m\u001b[0;34m\u001b[0m\u001b[0m\n\u001b[1;32m    588\u001b[0m                 \u001b[0mself\u001b[0m\u001b[0;34m.\u001b[0m\u001b[0m_timeout_occurred\u001b[0m \u001b[0;34m=\u001b[0m \u001b[0;32mTrue\u001b[0m\u001b[0;34m\u001b[0m\u001b[0m\n",
      "\u001b[0;31mKeyboardInterrupt\u001b[0m: "
     ]
    }
   ],
   "source": [
    "(training, test) = user_data.randomSplit([0.70, 0.30], seed=42)\n",
    "#show distribution of user churn in test and training data to get an idea of the baseline for our model eg.\n",
    "#baseling = performance of model thatl always guesses 0 = user does not churn\n",
    "print(training.filter(col('label') == 0).count()/training.count())\n",
    "print(test.filter(col('label') == 0).count()/test.count())"
   ]
  },
  {
   "cell_type": "code",
   "execution_count": null,
   "metadata": {},
   "outputs": [],
   "source": [
    "# define names of columnes the model should use for learning\n",
    "feature_names = ['gender','ads_frequency','level','membership_duration','rating','total_friends','activity']"
   ]
  },
  {
   "cell_type": "code",
   "execution_count": null,
   "metadata": {},
   "outputs": [],
   "source": [
    "#Baseline\n",
    "base_model = test.withColumn('prediction', F.lit(0))\n",
    "evaluate_model(base_model)"
   ]
  },
  {
   "cell_type": "code",
   "execution_count": null,
   "metadata": {},
   "outputs": [],
   "source": [
    "#Logistic Regression \n",
    "lr_model = LogisticRegression() \n",
    "params =ParamGridBuilder()\\\n",
    ".addGrid(lr_model.maxIter, [10,50,100,150]) \\\n",
    ".build()\n",
    "\n",
    "lr_model_result = train_model(training,lr_model,params,feature_names)\n",
    "evaluate_model(lr_model_result.transform(test))"
   ]
  },
  {
   "cell_type": "code",
   "execution_count": null,
   "metadata": {},
   "outputs": [],
   "source": [
    "#Gradient Boost Classifier\n",
    "gbc_model = GBTClassifier() \n",
    "params = ParamGridBuilder() \\\n",
    "                  .addGrid(gbc_model.maxIter ,[20, 100]) \\\n",
    "                  .addGrid(gbc_model.maxDepth, [5, 10]) \\\n",
    "                  .build()\n",
    "\n",
    "\n",
    "gbc_model_result = train_model(training,gbc_model,params,feature_names)\n",
    "evaluate_model(gbc_model_result.transform(test))"
   ]
  },
  {
   "cell_type": "code",
   "execution_count": null,
   "metadata": {},
   "outputs": [],
   "source": [
    "#Random Forst Classifier\n",
    "rf_model = RandomForestClassifier() \n",
    "params = ParamGridBuilder() \\\n",
    "                  .addGrid(rf_model.numTrees ,[20, 40]) \\\n",
    "                  .addGrid(rf_model.maxDepth, [5, 10]) \\\n",
    "                  .build()\n",
    "rf_model_result = train_model(training,rf_model,params,feature_names)\n",
    "evaluate_model(rf_model_result.transform(test))"
   ]
  },
  {
   "cell_type": "markdown",
   "metadata": {},
   "source": [
    "# Final Steps\n",
    "Clean up your code, adding comments and renaming variables to make the code easier to read and maintain. Refer to the Spark Project Overview page and Data Scientist Capstone Project Rubric to make sure you are including all components of the capstone project and meet all expectations. Remember, this includes thorough documentation in a README file in a Github repository, as well as a web app or blog post."
   ]
  },
  {
   "cell_type": "code",
   "execution_count": null,
   "metadata": {},
   "outputs": [],
   "source": []
  }
 ],
 "metadata": {
  "kernelspec": {
   "display_name": "Python 3",
   "language": "python",
   "name": "python3"
  },
  "language_info": {
   "codemirror_mode": {
    "name": "ipython",
    "version": 3
   },
   "file_extension": ".py",
   "mimetype": "text/x-python",
   "name": "python",
   "nbconvert_exporter": "python",
   "pygments_lexer": "ipython3",
   "version": "3.6.3"
  }
 },
 "nbformat": 4,
 "nbformat_minor": 2
}
